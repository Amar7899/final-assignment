{
 "cells": [
  {
   "cell_type": "markdown",
   "id": "a869e87f",
   "metadata": {},
   "source": [
    "# Data Science Tools and Ecosystem"
   ]
  },
  {
   "cell_type": "markdown",
   "id": "f09a919d",
   "metadata": {},
   "source": [
    "In this notebook, Data science Tools and Ecosystem are summarized."
   ]
  },
  {
   "cell_type": "markdown",
   "id": "a2d37300",
   "metadata": {},
   "source": [
    "### Objectives:\n",
    "* To know languages for data scientist\n",
    "* To know the libraries used by data scientists\n",
    "* To know about the data science tools\n"
   ]
  },
  {
   "cell_type": "markdown",
   "id": "dbe49ac8",
   "metadata": {},
   "source": [
    "Some of the popular languages that Data scientists use are:\n",
    "1) Python\n",
    "2) R\n",
    "3) Julia\n"
   ]
  },
  {
   "cell_type": "markdown",
   "id": "1de79744",
   "metadata": {},
   "source": [
    "Some of the commonly used libraries used by Data Scientists include:\n",
    "1) Pandas\n",
    "2) Numpy\n",
    "3) Tensorflow\n",
    "4) PyTorch"
   ]
  },
  {
   "cell_type": "markdown",
   "id": "4129afef",
   "metadata": {},
   "source": [
    "|Data Science Tools|\n",
    "|------------------|\n",
    "|MySQL|\n",
    "|MangoDB|\n",
    "|Hadoop|"
   ]
  },
  {
   "cell_type": "markdown",
   "id": "97fbc141",
   "metadata": {},
   "source": [
    "### Below are the few examples of evaluating arithematic expressions in Python."
   ]
  },
  {
   "cell_type": "code",
   "execution_count": 1,
   "id": "3a5e6d7e",
   "metadata": {},
   "outputs": [
    {
     "data": {
      "text/plain": [
       "17"
      ]
     },
     "execution_count": 1,
     "metadata": {},
     "output_type": "execute_result"
    }
   ],
   "source": [
    "#This is simple arithematic expression to multiply then add intergers\n",
    "(3*4)+5\n"
   ]
  },
  {
   "cell_type": "code",
   "execution_count": 2,
   "id": "76385600",
   "metadata": {},
   "outputs": [
    {
     "data": {
      "text/plain": [
       "3.3333333333333335"
      ]
     },
     "execution_count": 2,
     "metadata": {},
     "output_type": "execute_result"
    }
   ],
   "source": [
    "#this will convert 200 minutes to hours by dividing by 60\n",
    "200/60"
   ]
  },
  {
   "cell_type": "markdown",
   "id": "39249d27",
   "metadata": {},
   "source": [
    "## Author\n",
    "Amar Suryavanshi"
   ]
  },
  {
   "cell_type": "code",
   "execution_count": null,
   "id": "6b3af411",
   "metadata": {},
   "outputs": [],
   "source": []
  }
 ],
 "metadata": {
  "kernelspec": {
   "display_name": "Python 3 (ipykernel)",
   "language": "python",
   "name": "python3"
  },
  "language_info": {
   "codemirror_mode": {
    "name": "ipython",
    "version": 3
   },
   "file_extension": ".py",
   "mimetype": "text/x-python",
   "name": "python",
   "nbconvert_exporter": "python",
   "pygments_lexer": "ipython3",
   "version": "3.11.4"
  }
 },
 "nbformat": 4,
 "nbformat_minor": 5
}
